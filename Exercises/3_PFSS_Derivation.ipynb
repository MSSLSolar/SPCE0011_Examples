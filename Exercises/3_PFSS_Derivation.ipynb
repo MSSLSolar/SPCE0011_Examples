{
 "metadata": {
  "language_info": {
   "codemirror_mode": {
    "name": "ipython",
    "version": 3
   },
   "file_extension": ".py",
   "mimetype": "text/x-python",
   "name": "python",
   "nbconvert_exporter": "python",
   "pygments_lexer": "ipython3",
   "version": "3.8.5-final"
  },
  "orig_nbformat": 2,
  "kernelspec": {
   "name": "python3",
   "display_name": "Python 3.8.5 64-bit ('solarphysics': conda)",
   "metadata": {
    "interpreter": {
     "hash": "aa1de505e09bb253f15bbcfa0d72f814ce1b276cec90065a137a5fdc043db919"
    }
   }
  }
 },
 "nbformat": 4,
 "nbformat_minor": 2,
 "cells": [
  {
   "cell_type": "markdown",
   "metadata": {},
   "source": [
    "# Derivation of Potential Field Source Surface Model with Connection to a Spacecraft"
   ]
  },
  {
   "cell_type": "markdown",
   "metadata": {},
   "source": [
    "## Motivation\n",
    "Due to the coronal magnetic field not being as strong as the photospheric field, in order to calculate likely field line configurations above the photosphere, we need to employ magnetic field models.\n",
    "\n",
    "## Definition\n",
    "By definition, a Potential Field Source Surface (PFSS) model provides an approximate description of the solar coronal magnetic field based on observed photospheric field (magnetograms). The main constraints of the model are stated in the name itself.\n",
    "\n",
    "- Potential Field: By taking div B = 0, we consider a current-free magnetic field. This means there is no free energy, and the model is thus static.\n",
    "\n",
    "- Source Surface: We assume that if a field line reaches a certain height above the photosphere (the source surface), the field line becomes open to the heliosphere, and the magnetic field is assumed to be purely radial. A typical value for the source surface is 2.5 solar radii.\n",
    "\n",
    "For more information, see [here](https://ccmc.gsfc.nasa.gov/models/modelinfo.php?model=PFSS).\n",
    "\n",
    "## Resources\n",
    "\n",
    "- [JHelioviewer](http://swhv.oma.be/user_manual/#pfss), covered on the first exercise, allows for overplotting of a PFSS solution.\n",
    "- This notebook allows for the creation of a PFSS solution for an given date, on Python\n",
    "\n",
    "## Installation\n",
    "\n",
    "1. Install Anaconda, a Python and Data Science package manager, for your OS\n",
    "https://www.anaconda.com/products/individual\n",
    "\n",
    "\n",
    "2. Use the environment.yml file to install relevant packages:\n",
    "  - Open a terminal (Different for Mac (terminal), Linux (bash), Windows (anaconda terminal))\n",
    "\n",
    "  - Generate a 'solarphysics' environment: \n",
    "        conda env create solarphysics\n",
    "\n",
    "  - Install environment.yml file: \n",
    "        conda env update -n solarphysics --file environment.yml\n",
    "\n",
    "  - Activate environment.yml file: \n",
    "        conda activate solarphysics\n",
    "\n",
    "  - Open jupyter notebook: \n",
    "        jupyter notebook\n",
    "\n",
    "  - Navigate to folder where you\n",
    "  \n",
    "3. Open the Notebook in Jupyter, either from the Anaconda GUI (Windows, MAC), or from the Anaconda Prompt:\n",
    "jupyter notebook Notebookfile.ipynb  -->\n",
    "\n"
   ]
  },
  {
   "source": [
    "## Begin by importing required packages"
   ],
   "cell_type": "markdown",
   "metadata": {}
  },
  {
   "cell_type": "code",
   "execution_count": null,
   "metadata": {},
   "outputs": [],
   "source": [
    "!pip install pfsspy"
   ]
  },
  {
   "cell_type": "code",
   "execution_count": null,
   "metadata": {},
   "outputs": [],
   "source": [
    "from datetime import datetime\n",
    "import os\n",
    "\n",
    "# Astropy for physical constants, unit and coordinate handling\n",
    "import astropy.constants as const\n",
    "import astropy.units as u\n",
    "from astropy.coordinates import SkyCoord\n",
    "\n",
    "import matplotlib.pyplot as plt\n",
    "import numpy as np\n",
    "import sunpy.map\n",
    "import sunpy.io.fits\n",
    "\n",
    "import pfsspy\n",
    "import pfsspy.tracing as tracing\n",
    "from pfsspy.sample_data import get_gong_map"
   ]
  },
  {
   "source": [
    "### Download AIA map and save within imageResources folder"
   ],
   "cell_type": "markdown",
   "metadata": {}
  },
  {
   "cell_type": "code",
   "execution_count": null,
   "metadata": {},
   "outputs": [],
   "source": [
    "if not os.path.exists('imageResources/Exercise_3/aia_map.fits'):\n",
    "    import urllib.request\n",
    "    urllib.request.urlretrieve(\n",
    "        'http://jsoc2.stanford.edu/data/aia/synoptic/2020/09/01/H1300/AIA20200901_1300_0193.fits',\n",
    "        'imageResources/Exercise_3/aia_map.fits')\n",
    "\n",
    "aia = sunpy.map.Map('imageResources/Exercise_3/aia_map.fits')\n",
    "dtime = aia.date"
   ]
  },
  {
   "cell_type": "code",
   "execution_count": null,
   "metadata": {},
   "outputs": [],
   "source": [
    "ax = plt.subplot(1, 1, 1, projection=aia)\n",
    "aia.plot(ax)"
   ]
  },
  {
   "source": [
    "## Magnetic Field\n",
    "\n",
    "### Initial magnetic field input"
   ],
   "cell_type": "markdown",
   "metadata": {}
  },
  {
   "cell_type": "code",
   "execution_count": null,
   "metadata": {},
   "outputs": [],
   "source": [
    "gong_fname = get_gong_map()\n",
    "gong_map = sunpy.map.Map(gong_fname)\n",
    "# Remove the mean\n",
    "gong_map = sunpy.map.Map(gong_map.data - np.mean(gong_map.data), gong_map.meta)\n",
    "\n",
    "### PFSS Solution\n",
    "# PFSS solution to solar magnetic field is calculated on a 3D grid (phi, s, rho).\n",
    "\n",
    "#  rho = ln(r), and r is the standard spherical radial coordinate.\n",
    "nrho = 25\n",
    "rss = 2.5  # Source surface Radius\n",
    "input = pfsspy.Input(gong_map, nrho, rss)"
   ]
  },
  {
   "cell_type": "code",
   "execution_count": null,
   "metadata": {},
   "outputs": [],
   "source": [
    "# Plot the PFSS map\n",
    "m = input.map\n",
    "fig = plt.figure()\n",
    "ax = plt.subplot(projection=m)\n",
    "m.plot()\n",
    "plt.colorbar()\n",
    "ax.set_title('Input field')"
   ]
  },
  {
   "source": [
    "### Create Magnetic field line footpoints (seeds)\n",
    "\n",
    "We create a set of origin coordinates (field footpoints) that we can then derive the most likely magnetic field configuration from."
   ],
   "cell_type": "markdown",
   "metadata": {}
  },
  {
   "cell_type": "code",
   "execution_count": null,
   "metadata": {},
   "outputs": [],
   "source": [
    "# Create 5 points spaced between sin(lat)={0.35, 0.55}\n",
    "s = np.linspace(0.35, 0.55, 5)\n",
    "# Create 5 points spaced between long={60, 100} degrees\n",
    "phi = np.linspace(60, 100, 5)\n",
    "print(f's = {s}')\n",
    "print(f'phi = {phi}')\n",
    "# Make a 2D grid from these 1D points\n",
    "s, phi = np.meshgrid(s, phi)\n",
    "\n",
    "# Now convert the points to a coordinate object\n",
    "lat = np.arcsin(s) * u.rad\n",
    "lon = phi * u.deg\n",
    "seeds = SkyCoord(lon.ravel(), lat.ravel(), 1.01 * const.R_sun,\n",
    "                 frame=gong_map.coordinate_frame)\n",
    "\n",
    "# Plot the field line footpoint map\n",
    "m = input.map\n",
    "fig = plt.figure()\n",
    "ax = plt.subplot(projection=m)\n",
    "m.plot()\n",
    "plt.colorbar()\n",
    "\n",
    "ax.plot_coord(seeds, color='black', marker='o', linewidth=0, markersize=2)\n",
    "\n",
    "# Set the axes limits. These limits have to be in pixel values\n",
    "# ax.set_xlim(0, 180)\n",
    "# ax.set_ylim(45, 135)\n",
    "ax.set_title('Field line footpoints')\n",
    "ax.set_ylim(bottom=0)"
   ]
  },
  {
   "source": [
    "## PFSS \n",
    "### Solution"
   ],
   "cell_type": "markdown",
   "metadata": {}
  },
  {
   "cell_type": "code",
   "execution_count": null,
   "metadata": {},
   "outputs": [],
   "source": [
    "# Calculate PFSS Solution using input parameters\n",
    "output = pfsspy.pfss(input)\n",
    "tracer = tracing.PythonTracer()  # Trace field lines\n",
    "flines = tracer.trace(seeds, output)  # Make use of footpoints (seeds)"
   ]
  },
  {
   "source": [
    "### Field lines plotted on Magnetogram"
   ],
   "cell_type": "markdown",
   "metadata": {}
  },
  {
   "cell_type": "code",
   "execution_count": null,
   "metadata": {},
   "outputs": [],
   "source": [
    "# Solution plotted on magnetogram\n",
    "m = input.map\n",
    "fig = plt.figure()\n",
    "ax = plt.subplot(projection=m)\n",
    "m.plot()\n",
    "plt.colorbar()\n",
    "\n",
    "for fline in flines:\n",
    "    ax.plot_coord(fline.coords, color='black', linewidth=1)\n",
    "\n",
    "# Set the axes limits. These limits have to be in pixel values\n",
    "# ax.set_xlim(0, 180)\n",
    "# ax.set_ylim(45, 135)\n",
    "ax.set_title('Photospheric field and traced field lines')"
   ]
  },
  {
   "source": [
    "### Overplotting on AIA observations"
   ],
   "cell_type": "markdown",
   "metadata": {}
  },
  {
   "cell_type": "code",
   "execution_count": null,
   "metadata": {},
   "outputs": [],
   "source": [
    "fig = plt.figure()\n",
    "ax = plt.subplot(1, 1, 1, projection=aia)\n",
    "aia.plot(ax)\n",
    "for fline in flines:\n",
    "    ax.plot_coord(fline.coords, alpha=0.8, linewidth=1, color='white')\n",
    "\n",
    "plt.show()"
   ]
  }
 ]
}